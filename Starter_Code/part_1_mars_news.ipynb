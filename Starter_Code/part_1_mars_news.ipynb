{
 "cells": [
  {
   "cell_type": "markdown",
   "metadata": {},
   "source": [
    "# Module 12 Challenge\n",
    "## Deliverable 1: Scrape Titles and Preview Text from Mars News"
   ]
  },
  {
   "cell_type": "code",
   "execution_count": 4,
   "metadata": {},
   "outputs": [],
   "source": [
    "# Import Splinter and BeautifulSoup\n",
    "from splinter import Browser\n",
    "from bs4 import BeautifulSoup as soup\n",
    "from webdriver_manager.chrome import ChromeDriverManager"
   ]
  },
  {
   "cell_type": "code",
   "execution_count": 5,
   "metadata": {},
   "outputs": [
    {
     "name": "stderr",
     "output_type": "stream",
     "text": [
      "[WDM] - Downloading: 100%|███████████████████| 8.61M/8.61M [00:00<00:00, 10.1MB/s]\n"
     ]
    },
    {
     "data": {
      "text/plain": [
       "'/Users/chloeli/.wdm/drivers/chromedriver/mac64/108.0.5359/chromedriver'"
      ]
     },
     "execution_count": 5,
     "metadata": {},
     "output_type": "execute_result"
    }
   ],
   "source": [
    "ChromeDriverManager().install()"
   ]
  },
  {
   "cell_type": "code",
   "execution_count": 6,
   "metadata": {
    "scrolled": true
   },
   "outputs": [],
   "source": [
    "executable_path = {'executable_path': ChromeDriverManager().install()}\n",
    "browser = Browser('chrome', **executable_path, headless=False)"
   ]
  },
  {
   "cell_type": "markdown",
   "metadata": {},
   "source": [
    "### Step 1: Visit the Website\n",
    "\n",
    "1. Use automated browsing to visit the [Mars NASA news site](https://redplanetscience.com). Inspect the page to identify which elements to scrape.\n",
    "\n",
    "      > **Hint** To identify which elements to scrape, you might want to inspect the page by using Chrome DevTools."
   ]
  },
  {
   "cell_type": "code",
   "execution_count": 8,
   "metadata": {},
   "outputs": [],
   "source": [
    "# Visit the Mars NASA news site: https://redplanetscience.com\n",
    "browser.visit('https://redplanetscience.com/')\n"
   ]
  },
  {
   "cell_type": "markdown",
   "metadata": {},
   "source": [
    "### Step 2: Scrape the Website\n",
    "\n",
    "Create a Beautiful Soup object and use it to extract text elements from the website."
   ]
  },
  {
   "cell_type": "code",
   "execution_count": 10,
   "metadata": {},
   "outputs": [],
   "source": [
    "# Create a Beautiful Soup object\n",
    "html = soup(browser.html, 'html.parser')"
   ]
  },
  {
   "cell_type": "markdown",
   "metadata": {},
   "source": [
    "### Step 3: Store the Results\n",
    "\n",
    "Extract the titles and preview text of the news articles that you scraped. Store the scraping results in Python data structures as follows:\n",
    "\n",
    "* Store each title-and-preview pair in a Python dictionary. And, give each dictionary two keys: `title` and `preview`. An example is the following:\n",
    "\n",
    "  ```python\n",
    "  {'title': \"Mars Rover Begins Mission!\", \n",
    "        'preview': \"NASA's Mars Rover begins a multiyear mission to collect data about the little-explored planet.\"}\n",
    "  ```\n",
    "\n",
    "* Store all the dictionaries in a Python list.\n",
    "\n",
    "* Print the list in your notebook.\n",
    "\n",
    "# Extract all the text elements"
   ]
  },
  {
   "cell_type": "code",
   "execution_count": 37,
   "metadata": {},
   "outputs": [
    {
     "data": {
      "text/plain": [
       "[{'title': \"NASA's Mars Perseverance Rover Gets Its Sample Handling System\",\n",
       "  'preview': 'The system will be collecting and storing Martian rock and soil. Its installation marks another milestone in the march toward the July launch period.'},\n",
       " {'title': \"NASA's Mars Reconnaissance Orbiter Undergoes Memory Update\",\n",
       "  'preview': 'Other orbiters will continue relaying data from Mars surface missions for a two-week period.'},\n",
       " {'title': \"Media Get a Close-Up of NASA's Mars 2020 Rover\",\n",
       "  'preview': \"The clean room at NASA's Jet Propulsion Laboratory was open to the media to see NASA's next Mars explorer before it leaves for Florida in preparation for a summertime launch.\"},\n",
       " {'title': \"NASA's Mars 2020 Will Hunt for Microscopic Fossils\",\n",
       "  'preview': \"A new paper identifies a ring of minerals at the rover's landing site that are ideal for fossilizing microbial life.\"},\n",
       " {'title': 'NASA Establishes Board to Initially Review Mars Sample Return Plans',\n",
       "  'preview': 'The board will assist with analysis of current plans and goals for one of the most difficult missions humanity has ever undertaken.'},\n",
       " {'title': 'Join NASA for the Launch of the Mars 2020 Perseverance Rover',\n",
       "  'preview': 'No matter where you live, choose from a menu of activities to join NASA as we \"Countdown to Mars\" and launch the Perseverance rover to the Red Planet.'},\n",
       " {'title': \"Curiosity Mars Rover's Summer Road Trip Has Begun\",\n",
       "  'preview': 'After more than a year in the \"clay-bearing unit,\" Curiosity is making a mile-long journey around some deep sand so that it can explore higher up Mount Sharp.'},\n",
       " {'title': \"NASA's Curiosity Rover Finds an Ancient Oasis on Mars\",\n",
       "  'preview': \"New evidence suggests salty, shallow ponds once dotted a Martian crater — a sign of the planet's drying climate.\"},\n",
       " {'title': \"5 Hidden Gems Are Riding Aboard NASA's Perseverance Rover\",\n",
       "  'preview': \"The symbols, mottos, and small objects added to the agency's newest Mars rover serve a variety of purposes, from functional to decorative.\"},\n",
       " {'title': \"NASA's Curiosity Mars Rover Snaps Its Highest-Resolution Panorama Yet\",\n",
       "  'preview': 'To go along with the stunning 1.8-billion-pixel image, a new video offers a sweeping view of the Red Planet.'},\n",
       " {'title': 'Space History Is Made in This NASA Robot Factory',\n",
       "  'preview': \"From rockets to rovers, JPL's Spacecraft Assembly Facility has been at the center of robotic spaceflight. Here's a closer look at what makes it so special.\"},\n",
       " {'title': '7 Things to Know About the Mars 2020 Perseverance Rover Mission',\n",
       "  'preview': \"NASA's next rover to the Red Planet is slated to launch no earlier than July 30. These highlights will get you up to speed on the ambitious mission.\"},\n",
       " {'title': 'NASA Updates Mars 2020 Mission Environmental Review',\n",
       "  'preview': 'NASA and the Department of Energy have completed a more detailed risk analysis for the Mars 2020 rover launch from Florida.'},\n",
       " {'title': 'With Mars Methane Mystery Unsolved, Curiosity Serves Scientists a New One: Oxygen',\n",
       "  'preview': 'For the first time in the history of space exploration, scientists have measured the seasonal changes in the gases that fill the air directly above the surface of Gale Crater on Mars. '},\n",
       " {'title': \"NASA-JPL Names 'Rolling Stones Rock' on Mars\",\n",
       "  'preview': \"NASA's Mars InSight mission honored one of the biggest bands of all time at Pasadena concert.\"}]"
      ]
     },
     "execution_count": 37,
     "metadata": {},
     "output_type": "execute_result"
    }
   ],
   "source": [
    "# Create an empty list to store the dictionaries\n",
    "articles = []\n",
    "\n",
    "# Loop through the text elements\n",
    "# Extract the title and preview text from the elements\n",
    "# Store each title and preview pair in a dictionary\n",
    "titles =[t.text for t in html.find_all(\"div\",class_='content_title')]\n",
    "paragraphs =[p.text for p in html.find_all(\"div\",class_='article_teaser_body')]\n",
    "\n",
    "for i in range(len(titles)):\n",
    "    # Add the dictionary to the list\n",
    "    articles.append({'title':titles[i],'preview':paragraphs[i]})\n",
    "\n",
    "# Print the list to confirm success\n",
    "articles"
   ]
  },
  {
   "cell_type": "code",
   "execution_count": 9,
   "metadata": {},
   "outputs": [],
   "source": [
    "browser.quit()"
   ]
  },
  {
   "cell_type": "markdown",
   "metadata": {},
   "source": [
    "### (Optional) Step 4: Export the Data\n",
    "\n",
    "Optionally, store the scraped data in a file or database (to ease sharing the data with others). To do so, export the scraped data to either a JSON file or a MongoDB database."
   ]
  },
  {
   "cell_type": "code",
   "execution_count": 10,
   "metadata": {},
   "outputs": [],
   "source": [
    "# Export data to JSON\n"
   ]
  },
  {
   "cell_type": "code",
   "execution_count": null,
   "metadata": {},
   "outputs": [],
   "source": [
    "# Export data to MongoDB\n"
   ]
  }
 ],
 "metadata": {
  "kernelspec": {
   "display_name": "Python 3 (ipykernel)",
   "language": "python",
   "name": "python3"
  },
  "language_info": {
   "codemirror_mode": {
    "name": "ipython",
    "version": 3
   },
   "file_extension": ".py",
   "mimetype": "text/x-python",
   "name": "python",
   "nbconvert_exporter": "python",
   "pygments_lexer": "ipython3",
   "version": "3.9.12"
  },
  "vscode": {
   "interpreter": {
    "hash": "b3958e78155213c0ffecc4eecfd39eb679f47c5d8656c6f4ab600761941dbf6e"
   }
  }
 },
 "nbformat": 4,
 "nbformat_minor": 4
}
